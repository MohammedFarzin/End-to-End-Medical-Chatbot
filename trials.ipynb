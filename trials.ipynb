{
 "cells": [
  {
   "cell_type": "code",
   "execution_count": 29,
   "metadata": {},
   "outputs": [],
   "source": [
    "from langchain import PromptTemplate\n",
    "from langchain.chains import RetrievalQA\n",
    "from langchain.embeddings import HuggingFaceEmbeddings\n",
    "from langchain.vectorstores import Pinecone\n",
    "from pinecone import Pinecone as PC\n",
    "from langchain.document_loaders import PyPDFLoader, DirectoryLoader\n",
    "from langchain.text_splitter import RecursiveCharacterTextSplitter\n",
    "from langchain.prompts import PromptTemplate\n",
    "from langchain.llms import CTransformers\n",
    "import os\n",
    "from dotenv import load_dotenv"
   ]
  },
  {
   "cell_type": "code",
   "execution_count": 24,
   "metadata": {},
   "outputs": [
    {
     "data": {
      "text/plain": [
       "True"
      ]
     },
     "execution_count": 24,
     "metadata": {},
     "output_type": "execute_result"
    }
   ],
   "source": [
    "load_dotenv()"
   ]
  },
  {
   "cell_type": "code",
   "execution_count": 3,
   "metadata": {},
   "outputs": [],
   "source": [
    "# Extract data from the PDF\n",
    "def load_pdf(data):\n",
    "    loader = DirectoryLoader(data, glob='*.pdf', loader_cls=PyPDFLoader)\n",
    "    documents = loader.load()\n",
    "    return documents\n"
   ]
  },
  {
   "cell_type": "code",
   "execution_count": 4,
   "metadata": {},
   "outputs": [],
   "source": [
    "\n",
    "loaded_texts = load_pdf('./data/')"
   ]
  },
  {
   "cell_type": "code",
   "execution_count": 5,
   "metadata": {},
   "outputs": [
    {
     "data": {
      "text/plain": [
       "'Encyclopedia of Business and Finance, Second Edition \\nBurton S. Kaliski, Editor in Chief \\n© 2007 Thomson Gale, a part of The Thomson\\nCorporation.\\nThomson, Star Logo and Macmillan Reference\\nUSA are trademarks and Gale is a registered\\ntrademark used herein under license.  \\nFor more information, contactMacmillan Reference USAAn imprint of Thomson Gale27500 Drake Rd.Farmington, Hills, MI 48331-3535Or you can visit our Internet site athttp://www.gale.com\\nALL RIGHTS RESERVED\\nNo part of this work covered by the copyrighthereon may be reproduced or used in anyform or by any means—graphic, electronic, ormechanical, including photocopying, record-ing, taping, Web distribution, or informationstorage retrieval systems—without the writtenpermission of the publisher.  For permission to use material from this\\nproduct, submit your request via Web athttp://www.gale-edit.com/permissions, or youmay download our Permissions Request formand submit your request by fax or mail to:\\nPermissions\\nThomson Gale27500 Drake Rd.Farmington Hills, MI 48331-3535Permissions Hotline:248-699-8006 or 800-877-4253 ext. 8006Fax: 248-699-8074 or 800-762-4058Since this page cannot legibly accommo-\\ndate all copyright notices, the acknowledg-ments constitute an extension of thecopyright notice.\\nWhile every effort has been made to\\nensure the reliability of the information pre-sented in this publication, Thomson Gale doesnot guarantee the accuracy of the data con-tained herein. Thomson Gale accepts no pay-ment for listing; and inclusion in thepublication of any organization, agency, insti-tution, publication, service, or individual doesnot imply endorsement of the editors or pub-lisher. Errors brought to the attention of thepublisher and verified to the satisfaction ofthe publisher will be corrected in future edi-tions.\\nThis title is also available as an e-book.\\nISBN 0-02-866081-1\\nContact your Thomson Gale representative for ordering information.\\nPrinted in the United States of America\\n10 9 8 7 6 5 4 3 2 1 LIBRARY OF CONGRESS CATALOGING-IN-PUBLICATION DATA\\nEncyclopedia of business and finance / Burton S. Kaliski, editor-in-chief.— 2nd ed.\\np. cm.\\nIncludes bibliographical references and index.\\nISBN 0-02-866061-7 (set hardcover : alk. paper) — ISBN 0-02-866062-5 (volume 1 : alk.\\npaper) — ISBN 0-02-866063-3 (volume 2 : alk. paper)\\n1. Business—Encyclopedias. 2. Commerce—Encyclopedias. 3. Finance—Encyclopedias. 4.\\nNorth America—Commerce—Encyclopedias. 5. Finance—North America—Encyclopedias. I.Kaliski, Burton S. II. Macmillan Reference USA. \\nHF1001.E466 2007650.03—dc22 2006005185eobfv1fm  7/5/06  3:07 PM  Page IV'"
      ]
     },
     "execution_count": 5,
     "metadata": {},
     "output_type": "execute_result"
    }
   ],
   "source": [
    "loaded_texts[5].page_content"
   ]
  },
  {
   "cell_type": "code",
   "execution_count": 9,
   "metadata": {},
   "outputs": [],
   "source": [
    "def text_split(extracted_data):\n",
    "    text_splitter = RecursiveCharacterTextSplitter(chunk_size=500, chunk_overlap=20)\n",
    "    text_chunks = text_splitter.split_documents(extracted_data)\n",
    "    return text_chunks"
   ]
  },
  {
   "cell_type": "code",
   "execution_count": 10,
   "metadata": {},
   "outputs": [
    {
     "name": "stdout",
     "output_type": "stream",
     "text": [
      "length of my text chunks:  10646\n"
     ]
    }
   ],
   "source": [
    "text_chunks = text_split(loaded_texts)\n",
    "print(\"length of my text chunks: \", len(text_chunks))"
   ]
  },
  {
   "cell_type": "code",
   "execution_count": 13,
   "metadata": {},
   "outputs": [],
   "source": [
    "# download embedding model\n",
    "def download_hugging_face_embeddings():\n",
    "    embeddings = HuggingFaceEmbeddings(model_name=\"sentence-transformers/all-MiniLM-L6-v2\")\n",
    "    return embeddings\n",
    "\n",
    "embeddings = download_hugging_face_embeddings()"
   ]
  },
  {
   "cell_type": "code",
   "execution_count": 15,
   "metadata": {},
   "outputs": [
    {
     "data": {
      "text/plain": [
       "HuggingFaceEmbeddings(client=SentenceTransformer(\n",
       "  (0): Transformer({'max_seq_length': 256, 'do_lower_case': False}) with Transformer model: BertModel \n",
       "  (1): Pooling({'word_embedding_dimension': 384, 'pooling_mode_cls_token': False, 'pooling_mode_mean_tokens': True, 'pooling_mode_max_tokens': False, 'pooling_mode_mean_sqrt_len_tokens': False, 'pooling_mode_weightedmean_tokens': False, 'pooling_mode_lasttoken': False, 'include_prompt': True})\n",
       "  (2): Normalize()\n",
       "), model_name='sentence-transformers/all-MiniLM-L6-v2', cache_folder=None, model_kwargs={}, encode_kwargs={}, multi_process=False, show_progress=False)"
      ]
     },
     "execution_count": 15,
     "metadata": {},
     "output_type": "execute_result"
    }
   ],
   "source": [
    "embeddings"
   ]
  },
  {
   "cell_type": "code",
   "execution_count": 19,
   "metadata": {},
   "outputs": [
    {
     "data": {
      "text/plain": [
       "384"
      ]
     },
     "execution_count": 19,
     "metadata": {},
     "output_type": "execute_result"
    }
   ],
   "source": [
    "query_result = embeddings.embed_query(\"hello world\")\n",
    "len(query_result)"
   ]
  },
  {
   "cell_type": "code",
   "execution_count": 34,
   "metadata": {},
   "outputs": [],
   "source": [
    "pc = PC(api_key=os.environ['PINECONE_API_KEY'])\n",
    "index_name = \"medical-chatbot\"\n",
    "index = pc.Index(index_name)\n",
    "\n",
    "doc_search = Pinecone.from_documents(text_chunks, embeddings, index_name=index_name)"
   ]
  },
  {
   "cell_type": "code",
   "execution_count": null,
   "metadata": {},
   "outputs": [],
   "source": []
  }
 ],
 "metadata": {
  "kernelspec": {
   "display_name": "Python 3",
   "language": "python",
   "name": "python3"
  },
  "language_info": {
   "codemirror_mode": {
    "name": "ipython",
    "version": 3
   },
   "file_extension": ".py",
   "mimetype": "text/x-python",
   "name": "python",
   "nbconvert_exporter": "python",
   "pygments_lexer": "ipython3",
   "version": "3.10.0"
  }
 },
 "nbformat": 4,
 "nbformat_minor": 2
}
